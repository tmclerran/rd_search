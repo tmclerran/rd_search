{
 "cells": [
  {
   "cell_type": "code",
   "execution_count": 2,
   "id": "f535d409-648e-4a07-ab1a-2890d3d8f2cc",
   "metadata": {},
   "outputs": [],
   "source": [
    "import pandas as pd\n",
    "import getpass\n",
    "from neo4j import GraphDatabase"
   ]
  },
  {
   "cell_type": "code",
   "execution_count": 24,
   "id": "12d29a83-ae4c-4998-b972-ca2c70a2f2b1",
   "metadata": {},
   "outputs": [],
   "source": [
    "# password=getpass.getpass('\\nPlease enter the Neo4j database password to continue\\n')\n",
    "driver=GraphDatabase.driver(uri=\"bolt://44.204.154.78:7687\", auth=('neo4j', 'NikeshIsCool'))\n",
    "session=driver.session() "
   ]
  },
  {
   "cell_type": "code",
   "execution_count": 25,
   "id": "106807ce-1028-4423-8427-1a1d3ee5f945",
   "metadata": {
    "tags": []
   },
   "outputs": [
    {
     "data": {
      "text/html": [
       "<div>\n",
       "<style scoped>\n",
       "    .dataframe tbody tr th:only-of-type {\n",
       "        vertical-align: middle;\n",
       "    }\n",
       "\n",
       "    .dataframe tbody tr th {\n",
       "        vertical-align: top;\n",
       "    }\n",
       "\n",
       "    .dataframe thead th {\n",
       "        text-align: right;\n",
       "    }\n",
       "</style>\n",
       "<table border=\"1\" class=\"dataframe\">\n",
       "  <thead>\n",
       "    <tr style=\"text-align: right;\">\n",
       "      <th></th>\n",
       "      <th>c.cui</th>\n",
       "    </tr>\n",
       "  </thead>\n",
       "  <tbody>\n",
       "    <tr>\n",
       "      <th>0</th>\n",
       "      <td>C0001339</td>\n",
       "    </tr>\n",
       "    <tr>\n",
       "      <th>1</th>\n",
       "      <td>C0002018</td>\n",
       "    </tr>\n",
       "    <tr>\n",
       "      <th>2</th>\n",
       "      <td>C0002447</td>\n",
       "    </tr>\n",
       "    <tr>\n",
       "      <th>3</th>\n",
       "      <td>C0002875</td>\n",
       "    </tr>\n",
       "    <tr>\n",
       "      <th>4</th>\n",
       "      <td>C0002879</td>\n",
       "    </tr>\n",
       "  </tbody>\n",
       "</table>\n",
       "</div>"
      ],
      "text/plain": [
       "      c.cui\n",
       "0  C0001339\n",
       "1  C0002018\n",
       "2  C0002447\n",
       "3  C0002875\n",
       "4  C0002879"
      ]
     },
     "execution_count": 25,
     "metadata": {},
     "output_type": "execute_result"
    }
   ],
   "source": [
    "query = '''\n",
    "MATCH (c:Concept)\n",
    "RETURN c.cui\n",
    "LIMIT 5'''\n",
    "\n",
    "data = session.run(query)\n",
    "test_data = pd.DataFrame([dict(record) for record in data])\n",
    "\n",
    "test_data"
   ]
  },
  {
   "cell_type": "code",
   "execution_count": 4,
   "id": "41536e63-5ca0-4a9e-a7de-c1361a6dd84d",
   "metadata": {
    "tags": []
   },
   "outputs": [],
   "source": [
    "driver=GraphDatabase.driver(uri=\"bolt://localhost:7687\", auth=('neo4j', 'NikeshIsCool'))\n",
    "session=driver.session() "
   ]
  },
  {
   "cell_type": "code",
   "execution_count": 5,
   "id": "4a5ff7bd-254b-4ccb-b1ef-c4745b3e64d1",
   "metadata": {},
   "outputs": [
    {
     "data": {
      "text/html": [
       "<div>\n",
       "<style scoped>\n",
       "    .dataframe tbody tr th:only-of-type {\n",
       "        vertical-align: middle;\n",
       "    }\n",
       "\n",
       "    .dataframe tbody tr th {\n",
       "        vertical-align: top;\n",
       "    }\n",
       "\n",
       "    .dataframe thead th {\n",
       "        text-align: right;\n",
       "    }\n",
       "</style>\n",
       "<table border=\"1\" class=\"dataframe\">\n",
       "  <thead>\n",
       "    <tr style=\"text-align: right;\">\n",
       "      <th></th>\n",
       "      <th>c.cui</th>\n",
       "    </tr>\n",
       "  </thead>\n",
       "  <tbody>\n",
       "    <tr>\n",
       "      <th>0</th>\n",
       "      <td>C0001339</td>\n",
       "    </tr>\n",
       "    <tr>\n",
       "      <th>1</th>\n",
       "      <td>C0002018</td>\n",
       "    </tr>\n",
       "    <tr>\n",
       "      <th>2</th>\n",
       "      <td>C0002447</td>\n",
       "    </tr>\n",
       "    <tr>\n",
       "      <th>3</th>\n",
       "      <td>C0002875</td>\n",
       "    </tr>\n",
       "    <tr>\n",
       "      <th>4</th>\n",
       "      <td>C0002879</td>\n",
       "    </tr>\n",
       "  </tbody>\n",
       "</table>\n",
       "</div>"
      ],
      "text/plain": [
       "      c.cui\n",
       "0  C0001339\n",
       "1  C0002018\n",
       "2  C0002447\n",
       "3  C0002875\n",
       "4  C0002879"
      ]
     },
     "execution_count": 5,
     "metadata": {},
     "output_type": "execute_result"
    }
   ],
   "source": [
    "query = '''\n",
    "MATCH (c:Concept)\n",
    "RETURN c.cui\n",
    "LIMIT 5'''\n",
    "\n",
    "data = session.run(query)\n",
    "test_data = pd.DataFrame([dict(record) for record in data])\n",
    "\n",
    "test_data"
   ]
  },
  {
   "cell_type": "code",
   "execution_count": 11,
   "id": "d078dee4-28c7-4689-909e-55789e2ff256",
   "metadata": {},
   "outputs": [
    {
     "data": {
      "text/html": [
       "<div>\n",
       "<style scoped>\n",
       "    .dataframe tbody tr th:only-of-type {\n",
       "        vertical-align: middle;\n",
       "    }\n",
       "\n",
       "    .dataframe tbody tr th {\n",
       "        vertical-align: top;\n",
       "    }\n",
       "\n",
       "    .dataframe thead th {\n",
       "        text-align: right;\n",
       "    }\n",
       "</style>\n",
       "<table border=\"1\" class=\"dataframe\">\n",
       "  <thead>\n",
       "    <tr style=\"text-align: right;\">\n",
       "      <th></th>\n",
       "      <th>CUI</th>\n",
       "      <th>Definition</th>\n",
       "    </tr>\n",
       "  </thead>\n",
       "  <tbody>\n",
       "    <tr>\n",
       "      <th>0</th>\n",
       "      <td>C0080274</td>\n",
       "      <td>Inability to completely empty the urinary blad...</td>\n",
       "    </tr>\n",
       "    <tr>\n",
       "      <th>1</th>\n",
       "      <td>C1855311</td>\n",
       "      <td>Dilatation of the bladder postnatally.</td>\n",
       "    </tr>\n",
       "    <tr>\n",
       "      <th>2</th>\n",
       "      <td>C4025899</td>\n",
       "      <td>An abnormality of the male internal genitalia.</td>\n",
       "    </tr>\n",
       "  </tbody>\n",
       "</table>\n",
       "</div>"
      ],
      "text/plain": [
       "        CUI                                         Definition\n",
       "0  C0080274  Inability to completely empty the urinary blad...\n",
       "1  C1855311             Dilatation of the bladder postnatally.\n",
       "2  C4025899     An abnormality of the male internal genitalia."
      ]
     },
     "execution_count": 11,
     "metadata": {},
     "output_type": "execute_result"
    }
   ],
   "source": [
    "CUI_list = ['C0080274', 'C1855311', 'C4025899']\n",
    "\n",
    "def findingsDefinitions(CUI_list):\n",
    "    query='''\n",
    "    MATCH (n:HPOentity)\n",
    "    WHERE n.umls_id IN {CUI_list}\n",
    "    RETURN n.umls_id AS CUI, n.definition AS Definition\n",
    "    '''.format(CUI_list=CUI_list)\n",
    "    data = session.run(query)\n",
    "    findingsDefinitions = pd.DataFrame([dict(record) for record in data])\n",
    "    return findingsDefinitions\n",
    "\n",
    "findingsDefinitions(CUI_list)"
   ]
  }
 ],
 "metadata": {
  "kernelspec": {
   "display_name": "Python 3",
   "language": "python",
   "name": "python3"
  },
  "language_info": {
   "codemirror_mode": {
    "name": "ipython",
    "version": 3
   },
   "file_extension": ".py",
   "mimetype": "text/x-python",
   "name": "python",
   "nbconvert_exporter": "python",
   "pygments_lexer": "ipython3",
   "version": "3.9.4"
  }
 },
 "nbformat": 4,
 "nbformat_minor": 5
}
